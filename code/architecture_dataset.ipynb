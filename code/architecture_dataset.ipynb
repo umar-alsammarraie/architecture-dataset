{
  "nbformat": 4,
  "nbformat_minor": 0,
  "metadata": {
    "colab": {
      "provenance": [],
      "authorship_tag": "ABX9TyPbyYg5gTCNxXH3aAZN+2eY",
      "include_colab_link": true
    },
    "kernelspec": {
      "name": "python3",
      "display_name": "Python 3"
    },
    "language_info": {
      "name": "python"
    }
  },
  "cells": [
    {
      "cell_type": "markdown",
      "metadata": {
        "id": "view-in-github",
        "colab_type": "text"
      },
      "source": [
        "<a href=\"https://colab.research.google.com/github/umar-alsammarraie/architecture-dataset/blob/main/code/architecture_dataset.ipynb\" target=\"_parent\"><img src=\"https://colab.research.google.com/assets/colab-badge.svg\" alt=\"Open In Colab\"/></a>"
      ]
    },
    {
      "cell_type": "code",
      "source": [
        "import tensorflow as tf\n",
        "from tensorflow import keras\n",
        "from tensorflow.keras import layers\n",
        "from tensorflow.keras.preprocessing.image import ImageDataGenerator"
      ],
      "metadata": {
        "id": "J5jZX6g_GJMJ"
      },
      "execution_count": 3,
      "outputs": []
    },
    {
      "cell_type": "code",
      "source": [
        "# Set the random seed for reproducibility\n",
        "tf.random.set_seed(42)"
      ],
      "metadata": {
        "id": "OPTVSxz7IhuV"
      },
      "execution_count": 4,
      "outputs": []
    },
    {
      "cell_type": "code",
      "source": [
        "# Set the path to your dataset directory\n",
        "dataset_dir = '/content/sample_data/'\n",
        "\n",
        "# Set the image size and batch size\n",
        "image_size = (224, 224)\n",
        "batch_size = 32\n",
        "\n",
        "# Create an ImageDataGenerator for data preprocessing and augmentation\n",
        "datagen = ImageDataGenerator(\n",
        "    rescale=1./255,\n",
        "    validation_split=0.2,  # Split the dataset into training and validation sets\n",
        ")\n"
      ],
      "metadata": {
        "id": "HuVjWDJGIqEU"
      },
      "execution_count": 7,
      "outputs": []
    },
    {
      "cell_type": "code",
      "source": [
        "# Load and preprocess the training set\n",
        "print('Train data:')\n",
        "train_generator = datagen.flow_from_directory(\n",
        "    dataset_dir,\n",
        "    target_size=image_size,\n",
        "    class_mode='categorical',\n",
        "    batch_size=batch_size,\n",
        "    subset='training'  # Use the subset for training\n",
        ")\n",
        "# Load and preprocess the validation set\n",
        "print('Validation data:')\n",
        "val_generator = datagen.flow_from_directory(\n",
        "    dataset_dir,\n",
        "    target_size=image_size,\n",
        "    batch_size=batch_size,\n",
        "    class_mode='categorical',\n",
        "    subset='validation'  # Use the subset for validation\n",
        ")"
      ],
      "metadata": {
        "colab": {
          "base_uri": "https://localhost:8080/"
        },
        "id": "nIy9-taMIu0j",
        "outputId": "0af27de2-1426-4f99-94d3-16bc93dc5122"
      },
      "execution_count": 9,
      "outputs": [
        {
          "output_type": "stream",
          "name": "stdout",
          "text": [
            "Train data:\n",
            "Found 0 images belonging to 0 classes.\n",
            "Validation data:\n",
            "Found 0 images belonging to 0 classes.\n"
          ]
        }
      ]
    },
    {
      "cell_type": "code",
      "source": [
        "# Build the CNN model\n",
        "model = keras.Sequential([\n",
        "    layers.Conv2D(32, (3, 3), activation='relu', input_shape=(224, 224, 3)),\n",
        "    layers.MaxPooling2D((2, 2)),\n",
        "    layers.Conv2D(64, (3, 3), activation='relu'),\n",
        "    layers.MaxPooling2D((2, 2)),\n",
        "    layers.Conv2D(128, (3, 3), activation='relu'),\n",
        "    layers.MaxPooling2D((2, 2)),\n",
        "    layers.Flatten(),\n",
        "    layers.Dense(128, activation='relu'),\n",
        "    layers.Dense(train_generator.num_classes, activation='softmax')\n",
        "])\n",
        "\n",
        "# Compile the model\n",
        "model.compile(\n",
        "    optimizer='adam',\n",
        "    loss='categorical_crossentropy',\n",
        "    metrics=['accuracy']\n",
        ")"
      ],
      "metadata": {
        "id": "4-YUC26DIzDx"
      },
      "execution_count": 10,
      "outputs": []
    },
    {
      "cell_type": "code",
      "source": [
        "print(model.summary())"
      ],
      "metadata": {
        "colab": {
          "base_uri": "https://localhost:8080/"
        },
        "id": "vaXCVPawS2jM",
        "outputId": "e3dc2245-1cba-4091-e9a5-baabf5f9f08b"
      },
      "execution_count": 11,
      "outputs": [
        {
          "output_type": "stream",
          "name": "stdout",
          "text": [
            "Model: \"sequential\"\n",
            "_________________________________________________________________\n",
            " Layer (type)                Output Shape              Param #   \n",
            "=================================================================\n",
            " conv2d (Conv2D)             (None, 222, 222, 32)      896       \n",
            "                                                                 \n",
            " max_pooling2d (MaxPooling2D  (None, 111, 111, 32)     0         \n",
            " )                                                               \n",
            "                                                                 \n",
            " conv2d_1 (Conv2D)           (None, 109, 109, 64)      18496     \n",
            "                                                                 \n",
            " max_pooling2d_1 (MaxPooling  (None, 54, 54, 64)       0         \n",
            " 2D)                                                             \n",
            "                                                                 \n",
            " conv2d_2 (Conv2D)           (None, 52, 52, 128)       73856     \n",
            "                                                                 \n",
            " max_pooling2d_2 (MaxPooling  (None, 26, 26, 128)      0         \n",
            " 2D)                                                             \n",
            "                                                                 \n",
            " flatten (Flatten)           (None, 86528)             0         \n",
            "                                                                 \n",
            " dense (Dense)               (None, 128)               11075712  \n",
            "                                                                 \n",
            " dense_1 (Dense)             (None, 0)                 0         \n",
            "                                                                 \n",
            "=================================================================\n",
            "Total params: 11,168,960\n",
            "Trainable params: 11,168,960\n",
            "Non-trainable params: 0\n",
            "_________________________________________________________________\n",
            "None\n"
          ]
        }
      ]
    },
    {
      "cell_type": "code",
      "source": [
        "# Train the model\n",
        "history = model.fit(\n",
        "    train_generator,\n",
        "    validation_data=val_generator,\n",
        "    epochs=10\n",
        ")"
      ],
      "metadata": {
        "id": "ACcy5jYSI2ke"
      },
      "execution_count": null,
      "outputs": []
    },
    {
      "cell_type": "code",
      "source": [
        "# Predict a class of a specific image\n",
        "from PIL import Image\n",
        "import numpy as np\n",
        "\n",
        "# Load the image you want to classify\n",
        "image_path = '/path/to/test/image.jpg'  # Replace with the path to your test image\n",
        "image = Image.open(image_path)\n",
        "image = image.resize(image_size)  # Resize the image to match the input size of the model\n",
        "image = np.array(image) / 255.0  # Normalize pixel values between 0 and 1\n",
        "image = np.expand_dims(image, axis=0)  # Add an extra dimension for batch size\n",
        "\n",
        "# Make predictions on the image\n",
        "predictions = model.predict(image)\n",
        "class_index = np.argmax(predictions[0])\n",
        "class_label = train_generator.class_indices  # Get the mapping of class indices to labels\n",
        "class_label = {v: k for k, v in class_label.items()}  # Reverse the mapping\n",
        "\n",
        "# Print the predicted class label\n",
        "print(\"Predicted architecture style:\", class_label[class_index])"
      ],
      "metadata": {
        "id": "V5UuHgH2ZR_1"
      },
      "execution_count": null,
      "outputs": []
    }
  ]
}